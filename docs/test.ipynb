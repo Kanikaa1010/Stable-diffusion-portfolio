{
  "cells": [
    {
      "cell_type": "markdown",
      "metadata": {
        "id": "header"
      },
      "source": [
        "# Stable Diffusion Quick Test\n",
        "\n",
        "This is a minimal test notebook to verify Stable Diffusion works in your Colab environment.\n",
        "\n",
        "Steps:\n",
        "1. Setup Google Drive\n",
        "2. Install dependencies\n",
        "3. Load model\n",
        "4. Generate an image"
      ]
    },
    {
      "cell_type": "markdown",
      "metadata": {
        "id": "drive_setup"
      },
      "source": [
        "## 1. Drive Setup"
      ]
    },
    {
      "cell_type": "code",
      "execution_count": null,
      "metadata": {
        "id": "mount_drive"
      },
      "outputs": [],
      "source": [
        "# Mount Google Drive\n",
        "from google.colab import drive\n",
        "drive.mount('/content/drive')\n",
        "\n",
        "# Create a project folder\n",
        "import os\n",
        "project_dir = '/content/drive/MyDrive/sd_test'\n",
        "os.makedirs(project_dir, exist_ok=True)\n",
        "print(f\"Project directory: {project_dir}\")"
      ]
    },
    {
      "cell_type": "markdown",
      "metadata": {
        "id": "dependencies"
      },
      "source": [
        "## 2. Install Dependencies"
      ]
    },
    {
      "cell_type": "code",
      "execution_count": null,
      "metadata": {
        "id": "install_deps"
      },
      "outputs": [],
      "source": [
        "!pip install -q diffusers transformers accelerate torch"
      ]
    },
    {
      "cell_type": "markdown",
      "metadata": {
        "id": "gpu_check"
      },
      "source": [
        "## 3. GPU Check"
      ]
    },
    {
      "cell_type": "code",
      "execution_count": null,
      "metadata": {
        "id": "check_gpu"
      },
      "outputs": [],
      "source": [
        "import torch\n",
        "\n",
        "if torch.cuda.is_available():\n",
        "    device = \"cuda\"\n",
        "    print(f\"Using GPU: {torch.cuda.get_device_name(0)}\")\n",
        "else:\n",
        "    device = \"cpu\"\n",
        "    print(\"GPU not available, using CPU\")"
      ]
    },
    {
      "cell_type": "markdown",
      "metadata": {
        "id": "load_model"
      },
      "source": [
        "## 4. Load Stable Diffusion Model"
      ]
    },
    {
      "cell_type": "code",
      "execution_count": null,
      "metadata": {
        "id": "load_sd_model"
      },
      "outputs": [],
      "source": [
        "from diffusers import StableDiffusionPipeline\n",
        "\n",
        "# Load model\n",
        "model_id = \"runwayml/stable-diffusion-v1-5\"\n",
        "pipe = StableDiffusionPipeline.from_pretrained(\n",
        "    model_id,\n",
        "    torch_dtype=torch.float16,\n",
        "    use_safetensors=True\n",
        ")\n",
        "pipe = pipe.to(device)\n",
        "\n",
        "print(\"Model loaded successfully!\")"
      ]
    },
    {
      "cell_type": "markdown",
      "metadata": {
        "id": "generate_image"
      },
      "source": [
        "## 5. Generate Test Image"
      ]
    },
    {
      "cell_type": "code",
      "execution_count": null,
      "metadata": {
        "id": "generate_test_image"
      },
      "outputs": [],
      "source": [
        "# Set prompt\n",
        "prompt = \"A beautiful sunset over mountains, high quality, detailed\"\n",
        "\n",
        "# Generate image\n",
        "import time\n",
        "start_time = time.time()\n",
        "\n",
        "image = pipe(prompt).images[0]\n",
        "\n",
        "end_time = time.time()\n",
        "print(f\"Image generated in {end_time - start_time:.2f} seconds\")\n",
        "\n",
        "# Display image\n",
        "display(image)\n",
        "\n",
        "# Save image\n",
        "save_path = os.path.join(project_dir, \"test_image.png\")\n",
        "image.save(save_path)\n",
        "print(f\"Image saved to {save_path}\")"
      ]
    },
    {
      "cell_type": "markdown",
      "metadata": {
        "id": "try_another"
      },
      "source": [
        "## 6. Try Your Own Prompt"
      ]
    },
    {
      "cell_type": "code",
      "execution_count": null,
      "metadata": {
        "id": "custom_prompt"
      },
      "outputs": [],
      "source": [
        "# Enter your prompt\n",
        "custom_prompt = \"A futuristic city with flying cars and tall skyscrapers, digital art\"  # Change this to your prompt\n",
        "\n",
        "# Set seed for reproducibility (optional)\n",
        "generator = torch.Generator(device=device).manual_seed(42)  # Change the seed value as desired\n",
        "\n",
        "# Generate image\n",
        "image = pipe(\n",
        "    custom_prompt,\n",
        "    generator=generator,\n",
        "    num_inference_steps=30,  # Default is 50, lower = faster\n",
        "    guidance_scale=7.5  # How closely to follow the prompt (default is 7.5)\n",
        ").images[0]\n",
        "\n",
        "# Display image\n",
        "display(image)\n",
        "\n",
        "# Save image\n",
        "import datetime\n",
        "timestamp = datetime.datetime.now().strftime(\"%Y%m%d_%H%M%S\")\n",
        "save_path = os.path.join(project_dir, f\"custom_image_{timestamp}.png\")\n",
        "image.save(save_path)\n",
        "print(f\"Image saved to {save_path}\")"
      ]
    }
  ],
  "metadata": {
    "colab": {
      "name": "stable_diffusion_test.ipynb",
      "private_outputs": true,
      "provenance": []
    },
    "kernelspec": {
      "display_name": "Python 3",
      "name": "python3"
    },
    "language_info": {
      "name": "python"
    },
    "accelerator": "GPU",
    "gpuClass": "standard"
  },
  "nbformat": 4,
  "nbformat_minor": 0
}
